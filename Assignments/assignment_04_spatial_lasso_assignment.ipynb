{
    "cells": [
        {
            "cell_type": "markdown",
            "metadata": {},
            "source": [
                "This assignment will give you a real (active) research topic that I've discussed a little bit in class: predicting carbon storage as a function of high-resolution gridded data. In the class google drive you will find all the data you need in the Soyo_tile folder.\n",
                "\n",
                "This assignment will have you use the automated variable selection approach within LASSO to deal with a common situation in regressions on raster-stacks: we have so much data everything is significant but will lead to massive overfitting. The basic approach used here will involve reading in 2d rasters, flattening them into a 1d column ready to add to a dataframe shaped object, which we will use as our X matrix.\n",
                "\n",
                "Please turn in the completed Notebook (.ipynb) file that includes the results you generate. \n",
                "\n",
                "Below is some starter code along with specific assignment questions.\n"
            ]
        },
        {
            "cell_type": "code",
            "execution_count": 68,
            "metadata": {},
            "outputs": [],
            "source": [
                "# Load libraries\n",
                "import numpy as np\n",
                "import os\n",
                "from osgeo import gdal\n",
                "from sklearn.linear_model import Lasso\n",
                "from matplotlib import pyplot as plt\n",
                "from statsmodels.api import OLS\n",
                "from sklearn.metrics import mean_squared_error, r2_score"
            ]
        },
        {
            "cell_type": "markdown",
            "metadata": {},
            "source": [
                "## Step 1: Download the data and set paths\n",
                "\n",
                "Download the latest data from the class's google drive. In there, you will need the the files in `Data/python_assignment_2` data and assign a relative path to the `soyo_tile` directory in that assignment directory. It is your task to ensure your script runs in the right location and the data is stored in the right location that this relative path works."
            ]
        },
        {
            "cell_type": "code",
            "execution_count": 17,
            "metadata": {},
            "outputs": [
                {
                    "data": {
                        "text/plain": [
                            "['agb_observed_baccini_2000_30m.tif',\n",
                            " 'alt_30s.tif',\n",
                            " 'AWCh1_M_sl1_250m.tif',\n",
                            " 'BDRICM_M_250m.tif',\n",
                            " 'BDRLOG_M_250m.tif',\n",
                            " 'BLDFIE_M_sl1_250m.tif',\n",
                            " 'CLYPPT_M_sl1_250m.tif',\n",
                            " 'CRFVOL_M_sl1_250m.tif',\n",
                            " 'data_readme.docx',\n",
                            " 'HISTPR_250m.tif',\n",
                            " 'OCDENS_M_sl1_250m.tif',\n",
                            " 'PHIHOX_M_sl1_250m.tif',\n",
                            " 'roughness_30s.tif',\n",
                            " 'SLGWRB_250m.tif',\n",
                            " 'slope_30s.tif',\n",
                            " 'SLTPPT_M_sl1_250m.tif',\n",
                            " 'terrain_ruggedness_index_30s.tif',\n",
                            " 'TEXMHT_M_sl1_250m.tif',\n",
                            " 'wc2.0_bio_30s_01.tif',\n",
                            " 'wc2.0_bio_30s_12.tif']"
                        ]
                    },
                    "execution_count": 17,
                    "metadata": {},
                    "output_type": "execute_result"
                }
            ],
            "source": [
                "# Step 1 code\n",
                "data_dir = '../../../../data' \n",
                "data_dir = os.path.join(data_dir, 'soyo_tile')\n",
                "os.listdir(data_dir)"
            ]
        },
        {
            "cell_type": "markdown",
            "metadata": {},
            "source": [
                "## Step 2: Set raster paths \n",
                "\n",
                "Assign each of the raster paths in the directory to a dictionary for later use. I've included most of the code (so you don't have to waste your time typing), but add in the missing paths."
            ]
        },
        {
            "cell_type": "code",
            "execution_count": 18,
            "metadata": {},
            "outputs": [],
            "source": [
                "# Step 2 code\n",
                "\n",
                "raster_paths = {}\n",
                "\n",
                "# First is the dependent varable, Above Ground Carbon (AGB) in tons, measured at 30 meters globally (here it is clipped to a smaller area)\n",
                "raster_paths['agb_observed_baccini_2000_30m'] = os.path.join(data_dir, \"agb_observed_baccini_2000_30m.tif\")\n",
                "\n",
                "# Here are some of the independent variables\n",
                "raster_paths['CRFVOL_M_sl1_250m'] = os.path.join(data_dir, \"CRFVOL_M_sl1_250m.tif\")\n",
                "raster_paths['HISTPR_250m'] = os.path.join(data_dir, \"HISTPR_250m.tif\")\n",
                "raster_paths['OCDENS_M_sl1_250m'] = os.path.join(data_dir, \"OCDENS_M_sl1_250m.tif\")\n",
                "raster_paths['PHIHOX_M_sl1_250m'] = os.path.join(data_dir, \"PHIHOX_M_sl1_250m.tif\")\n",
                "raster_paths['roughness_30s'] = os.path.join(data_dir, \"roughness_30s.tif\")\n",
                "raster_paths['SLGWRB_250m'] = os.path.join(data_dir, \"SLGWRB_250m.tif\")\n",
                "raster_paths['SLTPPT_M_sl1_250m'] = os.path.join(data_dir, \"SLTPPT_M_sl1_250m.tif\")\n",
                "raster_paths['terrain_ruggedness_index_30s'] = os.path.join(data_dir, \"terrain_ruggedness_index_30s.tif\")\n",
                "raster_paths['TEXMHT_M_sl1_250m'] = os.path.join(data_dir, \"TEXMHT_M_sl1_250m.tif\")\n",
                "raster_paths['wc2.0_bio_30s_01'] = os.path.join(data_dir, \"wc2.0_bio_30s_01.tif\")\n",
                "raster_paths['alt_30s'] = os.path.join(data_dir, \"alt_30s.tif\")\n",
                "raster_paths['AWCh1_M_sl1_250m'] = os.path.join(data_dir, \"AWCh1_M_sl1_250m.tif\")\n",
                "raster_paths['BDRICM_M_250m'] = os.path.join(data_dir, \"BDRICM_M_250m.tif\")\n",
                "raster_paths['BDRLOG_M_250m'] = os.path.join(data_dir, \"BDRLOG_M_250m.tif\")\n",
                "raster_paths['BLDFIE_M_sl1_250m'] = os.path.join(data_dir, \"BLDFIE_M_sl1_250m.tif\")"
            ]
        },
        {
            "cell_type": "markdown",
            "metadata": {},
            "source": [
                "## Step 3: Open the rasters\n",
                "\n",
                "Our dependent variable will be 30 meter observations of carbon storage from Baccini et al. (unpublished, but soon to be published) data. The label I assigned in the dictionary above was agb_observed_baccini_2000_30m for this variable. Use gdal.Open, GetRasterBand(1) and ReadAsArray() to read this geotiff as a numpy file\n",
                "\n",
                "Side note: If you get an error like: \"ERROR 4: This is a BigTIFF file.  BigTIFF is not supported by this version of GDAL and libtiff.\" make sure you have installed gdal with the mamba method from lecture 1. "
            ]
        },
        {
            "cell_type": "code",
            "execution_count": 11,
            "metadata": {},
            "outputs": [
                {
                    "name": "stdout",
                    "output_type": "stream",
                    "text": [
                        "[[123 122  75 ... 130 128 125]\n",
                        " [125 124 124 ... 121 130 124]\n",
                        " [125 128 126 ... 124 124 126]\n",
                        " ...\n",
                        " [  0   0   0 ... 155 136 143]\n",
                        " [  0   0   0 ... 135 132 198]\n",
                        " [  0   0   0 ... 135 123 119]]\n"
                    ]
                }
            ],
            "source": [
                "# Step 3 code\n",
                "\n",
                "# Save Y variable file to variable\n",
                "y = raster_paths['agb_observed_baccini_2000_30m']\n",
                "# Open file\n",
                "y_rast = gdal.Open(y)\n",
                "# Get band 1\n",
                "y_band = y_rast.GetRasterBand(1)\n",
                "# Convert band to array\n",
                "y_arr = y_band.ReadAsArray()\n",
                "\n",
                "print(y_arr)"
            ]
        },
        {
            "cell_type": "markdown",
            "metadata": {},
            "source": [
                "## Step 4: Define some arrays\n",
                "\n",
                "Create an empty numpy array (or full of zeros) of the right shape to house all our raster data. A very CPU-efficient way of arranging a stack of 2d rasters (which would be 3d once stacked up), is to flatten each 2d raster into a longer 1d array. This will go into our X matrix. In order to create the right sized X matrix, first get the n_obs and n_vars by inspecting the dependent variable raster and the dictionary of inputs above. Note that the n_vars should be the number of independent AND dependent variables."
            ]
        },
        {
            "cell_type": "code",
            "execution_count": 43,
            "metadata": {},
            "outputs": [
                {
                    "name": "stdout",
                    "output_type": "stream",
                    "text": [
                        "Number of Observations: 4000000\n",
                        "Number of Variables: 16\n"
                    ]
                }
            ],
            "source": [
                "# Step 4 code\n",
                "\n",
                "from sklearn.preprocessing import StandardScaler  # Example usage of scikit-learn\n",
                "\n",
                "# Initialize counters\n",
                "n_obs = 0\n",
                "n_vars = 0\n",
                "\n",
                "# Iterate through TIFF files\n",
                "for key, file_path in raster_paths.items():\n",
                "    # Read TIFF file using GDAL\n",
                "    dataset = gdal.Open(file_path)\n",
                "\n",
                "    # Get information from the dataset\n",
                "    observations = dataset.RasterYSize\n",
                "    variables = dataset.RasterCount\n",
                "\n",
                "    # Accumulate counts\n",
                "    n_obs += observations\n",
                "    n_vars += variables\n",
                "\n",
                "    # Additional processing using scikit-learn (example: standard scaling)\n",
                "    data_arr = np.array(dataset.ReadAsArray())\n",
                "    scaler = StandardScaler()\n",
                "    scaled_data = scaler.fit_transform(data_arr)\n",
                "\n",
                "    # Close the dataset\n",
                "    dataset = None\n",
                "\n",
                "n_obs # number of obs before flattening...\n",
                "total_obs = n_obs * 125\n",
                "# Print or use the accumulated counts\n",
                "print(f\"Number of Observations: {total_obs}\")\n",
                "print(f\"Number of Variables: {n_vars}\")\n",
                "\n"
            ]
        },
        {
            "cell_type": "code",
            "execution_count": 44,
            "metadata": {},
            "outputs": [
                {
                    "name": "stdout",
                    "output_type": "stream",
                    "text": [
                        "(4000000, 16)\n"
                    ]
                }
            ],
            "source": [
                "# Tuple of shape: obs x vars\n",
                "shape = (total_obs, n_vars)\n",
                "# Create empty array\n",
                "data_array = np.zeros(shape)\n",
                "print(shape)"
            ]
        },
        {
            "cell_type": "markdown",
            "metadata": {},
            "source": [
                "## Step 5: Load all the independent variables\n",
                "\n",
                "- Iterate through the dictionary and load each raster as a 2d array\n",
                "- flatten it to 1d using the .flatten() method in numpy\n",
                "- Assign this 1d array to the correct column of the data array. By convention, the depvar will be the first column.\n",
                "\n",
                "Hint, assuming you have arranged your X array in the correct way, it should have observations (pixels) as rows and variables as cols. Given that each flattened array is for one variable and is as long as there are rows, a convenient way of assigning it would be to use numpy slice notation, potentially similar to:\n",
                "\n",
                "`data_array[:, column_index_integer]`\n",
                "\n",
                "The first colon just denotes the whole row and the column index is an integer you could create pointing to the right row.\n",
                "\n",
                "Some incomplete code to get you started is below."
            ]
        },
        {
            "cell_type": "code",
            "execution_count": 108,
            "metadata": {},
            "outputs": [
                {
                    "name": "stdout",
                    "output_type": "stream",
                    "text": [
                        "Loading ../../../../data\\soyo_tile\\agb_observed_baccini_2000_30m.tif\n",
                        "Populating column 0\n",
                        "Loading ../../../../data\\soyo_tile\\CRFVOL_M_sl1_250m.tif\n",
                        "Populating column 1\n",
                        "Loading ../../../../data\\soyo_tile\\HISTPR_250m.tif\n",
                        "Populating column 2\n",
                        "Loading ../../../../data\\soyo_tile\\OCDENS_M_sl1_250m.tif\n",
                        "Populating column 3\n",
                        "Loading ../../../../data\\soyo_tile\\PHIHOX_M_sl1_250m.tif\n",
                        "Populating column 4\n",
                        "Loading ../../../../data\\soyo_tile\\roughness_30s.tif\n",
                        "Populating column 5\n",
                        "Loading ../../../../data\\soyo_tile\\SLGWRB_250m.tif\n",
                        "Populating column 6\n",
                        "Loading ../../../../data\\soyo_tile\\SLTPPT_M_sl1_250m.tif\n",
                        "Populating column 7\n",
                        "Loading ../../../../data\\soyo_tile\\terrain_ruggedness_index_30s.tif\n",
                        "Populating column 8\n",
                        "Loading ../../../../data\\soyo_tile\\TEXMHT_M_sl1_250m.tif\n",
                        "Populating column 9\n",
                        "Loading ../../../../data\\soyo_tile\\wc2.0_bio_30s_01.tif\n",
                        "Populating column 10\n",
                        "Loading ../../../../data\\soyo_tile\\alt_30s.tif\n",
                        "Populating column 11\n",
                        "Loading ../../../../data\\soyo_tile\\AWCh1_M_sl1_250m.tif\n",
                        "Populating column 12\n",
                        "Loading ../../../../data\\soyo_tile\\BDRICM_M_250m.tif\n",
                        "Populating column 13\n",
                        "Loading ../../../../data\\soyo_tile\\BDRLOG_M_250m.tif\n",
                        "Populating column 14\n",
                        "Loading ../../../../data\\soyo_tile\\BLDFIE_M_sl1_250m.tif\n",
                        "Populating column 15\n"
                    ]
                }
            ],
            "source": [
                "# Step 5 code\n",
                "\n",
                "col_index = 0\n",
                "feature_names = []\n",
                "\n",
                "# Iterate through all raster files in dictionary\n",
                "for name, path in raster_paths.items():\n",
                "    print('Loading', path)\n",
                "    # Open file\n",
                "    rast = gdal.Open(path)\n",
                "    band = rast.GetRasterBand(1)\n",
                "    flattened_raster_array = band.ReadAsArray().flatten()\n",
                "    # print(np.unique(flattened_raster_array))\n",
                "    print('Populating column', col_index)\n",
                "    data_array[:, col_index] = flattened_raster_array\n",
                "    feature_names.append(name)\n",
                "\n",
                "    col_index += 1\n",
                "    # Close file\n",
                "    rast = None\n"
            ]
        },
        {
            "cell_type": "markdown",
            "metadata": {},
            "source": [
                "# Step 6: \n",
                "\n",
                "Extract the first array row of the data_array and assign it to y. Assign the rest to X."
            ]
        },
        {
            "cell_type": "code",
            "execution_count": 87,
            "metadata": {},
            "outputs": [],
            "source": [
                "# Step 6 code\n",
                "y = data_array[:, 0]\n",
                "x = data_array[:, 1:]"
            ]
        },
        {
            "cell_type": "markdown",
            "metadata": {},
            "source": [
                "# Step 7:\n",
                "\n",
                "Split the X and y into testing and training data such that the training data is the first million pixels and the testing data is the next 200,000. Do this using numpy slice notation on the X and y variables you created."
            ]
        },
        {
            "cell_type": "code",
            "execution_count": 89,
            "metadata": {},
            "outputs": [],
            "source": [
                "# Step 7 code\n",
                "train_obs = 1000000\n",
                "test_obs = 2000000\n",
                "y_train = y[0:train_obs]\n",
                "X_train = x[0:train_obs, :]\n",
                "y_test = y[train_obs+1:train_obs+1+test_obs]\n",
                "X_test = x[train_obs+1:train_obs+1+test_obs, :]"
            ]
        },
        {
            "cell_type": "markdown",
            "metadata": {},
            "source": [
                "# Step 8 (optional but useful):\n",
                "\n",
                "To make the code run faster, we are going to use every 10th pixel. We can easily get this via numpy slicing again, using x_train[::10] to get every 10th pixel."
            ]
        },
        {
            "cell_type": "code",
            "execution_count": 90,
            "metadata": {},
            "outputs": [
                {
                    "data": {
                        "text/plain": [
                            "array([[-1.000e+00,  7.000e+00,  1.750e+02, ...,  2.000e+02,  1.000e+00,\n",
                            "         1.436e+03],\n",
                            "       [-1.000e+00,  6.000e+00,  1.680e+02, ...,  2.000e+02, -1.000e+00,\n",
                            "         1.390e+03],\n",
                            "       [-1.000e+00,  6.000e+00,  1.690e+02, ...,  2.000e+02, -1.000e+00,\n",
                            "         1.377e+03],\n",
                            "       ...,\n",
                            "       [-1.000e+00,  2.000e+00,  1.200e+02, ...,  2.000e+02, -1.000e+00,\n",
                            "         1.359e+03],\n",
                            "       [-1.000e+00,  1.000e+00,  1.210e+02, ...,  2.000e+02,  3.000e+00,\n",
                            "         1.368e+03],\n",
                            "       [-1.000e+00,  1.000e+00,  1.230e+02, ...,  2.000e+02,  2.000e+00,\n",
                            "         1.365e+03]])"
                        ]
                    },
                    "execution_count": 90,
                    "metadata": {},
                    "output_type": "execute_result"
                }
            ],
            "source": [
                "# Step 8 code\n",
                "y_train[::10]\n",
                "X_train[::10]"
            ]
        },
        {
            "cell_type": "markdown",
            "metadata": {},
            "source": [
                "# Step 9:\n",
                "\n",
                "Create a Lasso object (using the default penalty term alpha) and fit it to the training data. Create and print out a vector of predicted carbon values. Also print out the score using the lasso object's .score() method on the TESTING data. Print out the fitted lasso score."
            ]
        },
        {
            "cell_type": "code",
            "execution_count": 92,
            "metadata": {},
            "outputs": [
                {
                    "name": "stdout",
                    "output_type": "stream",
                    "text": [
                        "-0.6206354561350587\n"
                    ]
                }
            ],
            "source": [
                "# Step 9 code\n",
                "\n",
                "# Create Lasso object\n",
                "model_lasso = Lasso(alpha=1.0, random_state=0, max_iter=10000)\n",
                "\n",
                "# Fit the model\n",
                "y_train_hat_lasso = model_lasso.fit(X_train, y_train)\n",
                "\n",
                "# Prediction\n",
                "y_pred = model_lasso.predict(X_test)\n",
                "\n",
                "# View score\n",
                "print(y_train_hat_lasso.score(X_test, y_test))"
            ]
        },
        {
            "cell_type": "markdown",
            "metadata": {},
            "source": [
                "# Step 10, optional and just for fun:.\n",
                "\n",
                "To view how our projections LOOK, we can create a predicted matrix on the whole X, reshape it back into the original 2d shape and look at it. You can compare this to the input array to visualize how it looks. Note that this will only work if you name your objects like mine."
            ]
        },
        {
            "cell_type": "code",
            "execution_count": null,
            "metadata": {},
            "outputs": [],
            "source": [
                "# Step 10 code"
            ]
        },
        {
            "cell_type": "markdown",
            "metadata": {},
            "source": [
                "# Step 11:\n",
                "\n",
                "Create a list of 30 alphas using ` np.logspace(-1, 3, 30)`. \n",
                "\n",
                "Using a for loop iterate over those alphas and run the Lasso model like above, but using the alpha values in the loop. Print out the fit score at each step. Using matplotlib, plot how this value changes as alpha changes. Finally, extract the best alpha of the bunch. "
            ]
        },
        {
            "cell_type": "code",
            "execution_count": 93,
            "metadata": {},
            "outputs": [
                {
                    "name": "stdout",
                    "output_type": "stream",
                    "text": [
                        "Alpha 0.1 r2 0.5982431818702818\n",
                        "Alpha 0.1373823795883263 r2 0.5982334402077794\n",
                        "Alpha 0.18873918221350972 r2 0.5982150585809618\n",
                        "Alpha 0.2592943797404667 r2 0.5981803688109031\n",
                        "Alpha 0.3562247890262442 r2 0.5981149063933093\n",
                        "Alpha 0.4893900918477494 r2 0.5979913851526988\n",
                        "Alpha 0.6723357536499337 r2 0.5977583109386742\n",
                        "Alpha 0.9236708571873861 r2 0.5973185454245731\n",
                        "Alpha 1.2689610031679222 r2 0.5966023395706236\n",
                        "Alpha 1.743328822199988 r2 0.5955545906682953\n",
                        "Alpha 2.395026619987486 r2 0.5935772330613508\n",
                        "Alpha 3.2903445623126677 r2 0.5909188740445962\n",
                        "Alpha 4.520353656360243 r2 0.5869388552262478\n",
                        "Alpha 6.2101694189156165 r2 0.5815217217094848\n",
                        "Alpha 8.531678524172806 r2 0.5742088714076911\n",
                        "Alpha 11.721022975334806 r2 0.5601688305647465\n",
                        "Alpha 16.102620275609393 r2 0.5450560435191583\n",
                        "Alpha 22.12216291070448 r2 0.5267189999009059\n",
                        "Alpha 30.39195382313198 r2 0.49211325069337974\n",
                        "Alpha 41.753189365604 r2 0.47668292076468355\n",
                        "Alpha 57.361525104486816 r2 0.4576181163301888\n",
                        "Alpha 78.80462815669912 r2 0.4279517694326227\n",
                        "Alpha 108.2636733874054 r2 0.42659602820885656\n",
                        "Alpha 148.73521072935117 r2 0.42403745364302314\n",
                        "Alpha 204.33597178569417 r2 0.41920830178600843\n",
                        "Alpha 280.72162039411756 r2 0.4100937477485509\n",
                        "Alpha 385.6620421163472 r2 0.3928909411246947\n",
                        "Alpha 529.8316906283708 r2 0.36042334771518725\n",
                        "Alpha 727.8953843983146 r2 0.31307074667780377\n",
                        "Alpha 1000.0 r2 0.25760111433458666\n",
                        "best_alpha 0.1\n"
                    ]
                }
            ],
            "source": [
                "# Step 11 code \n",
                "\n",
                "# Define dict for scores\n",
                "scores = {}\n",
                "\n",
                "# Create list of alphas\n",
                "alpha_list = np.logspace(-1, 3, 30)\n",
                "\n",
                "for alpha in alpha_list:\n",
                "    model_lasso = Lasso(alpha=alpha, random_state=0, max_iter=10000)\n",
                "    model_lasso.fit(X_train, y_train)\n",
                "    y_train_hat_lasso = model_lasso.predict(X_train)\n",
                "    r2 = r2_score(y_train, y_train_hat_lasso)\n",
                "    scores[alpha] = r2\n",
                "    print('Alpha', alpha, 'r2', r2)\n",
                "\n",
                "# Quick way to get the value from the highest-valued dictionary entry\n",
                "best_alpha = max(scores, key=scores.get)\n",
                "\n",
                "# print best_alpha with all the significant digits\n",
                "print('best_alpha', best_alpha)\n"
            ]
        },
        {
            "cell_type": "code",
            "execution_count": 98,
            "metadata": {},
            "outputs": [
                {
                    "data": {
                        "image/png": "[encoded data removed]",
                        "text/plain": [
                            "<Figure size 1000x600 with 1 Axes>"
                        ]
                    },
                    "metadata": {},
                    "output_type": "display_data"
                }
            ],
            "source": [
                "# Plot results\n",
                "plt.figure(figsize=(10, 6))\n",
                "plt.plot(alpha_list, list(scores.values()), marker='o')\n",
                "plt.xscale('log')  # Set x-axis to a logarithmic scale for better visualization\n",
                "plt.xlabel('Alpha (Hyper parameter)')\n",
                "plt.ylabel('R-squared Score')\n",
                "plt.title('Alpha Sensitivity Analysis for Lasso Regression')\n",
                "plt.show()"
            ]
        },
        {
            "cell_type": "markdown",
            "metadata": {},
            "source": [
                "# Step 12: \n",
                "\n",
                "Rerun the lasso with that best value and identify all of the coefficiencts that were \"selected\" ie had non-zero values. Save these coefficient indices and labels to a list."
            ]
        },
        {
            "cell_type": "code",
            "execution_count": 110,
            "metadata": {},
            "outputs": [
                {
                    "name": "stdout",
                    "output_type": "stream",
                    "text": [
                        "[('agb_observed_baccini_2000_30m', 1.1178444698633947), ('CRFVOL_M_sl1_250m', 3.6360303928262097), ('HISTPR_250m', 0.16851979492088145), ('OCDENS_M_sl1_250m', -7.1471066964145455), ('PHIHOX_M_sl1_250m', -0.04126857194753525), ('SLGWRB_250m', -0.048912276352112996), ('SLTPPT_M_sl1_250m', 0.4634661148714579), ('terrain_ruggedness_index_30s', -7.29404906078129), ('TEXMHT_M_sl1_250m', 2.2788866910504546), ('alt_30s', -3.0865771042501655), ('AWCh1_M_sl1_250m', 4.6483241969421), ('BDRICM_M_250m', 1.4994179044019034), ('BDRLOG_M_250m', -0.3267967876895696)]\n"
                    ]
                }
            ],
            "source": [
                "# Step 12 code\n",
                "\n",
                "# Create Lasso object with best alpha\n",
                "model_lasso = Lasso(alpha=best_alpha, random_state=0, max_iter=10000)\n",
                "\n",
                "# Fit the model\n",
                "y_train_hat_lasso = model_lasso.fit(X_train, y_train)\n",
                "\n",
                "# Combine coefficients with their labels\n",
                "coef_dict = dict(zip(feature_names, y_train_hat_lasso.coef_))\n",
                "\n",
                "# Look at coefficients\n",
                "# print(\"coefficients\", coef_dict)\n",
                "\n",
                "select_coef = []\n",
                "# Append non-zero coefs to list\n",
                "for var, coef in coef_dict.items():\n",
                "    if coef > 0.01 or coef < -0.01:\n",
                "        select_var.append((var, coef))\n",
                "\n",
                "# View selected variables\n",
                "print(select_var)\n"
            ]
        },
        {
            "cell_type": "code",
            "execution_count": 113,
            "metadata": {},
            "outputs": [
                {
                    "name": "stdout",
                    "output_type": "stream",
                    "text": [
                        "Coefficient agb_observed_baccini_2000_30m was 1.1178444698633947\n",
                        "Coefficient CRFVOL_M_sl1_250m was 3.6360303928262097\n",
                        "Coefficient HISTPR_250m was 0.16851979492088145\n",
                        "Coefficient OCDENS_M_sl1_250m was -7.1471066964145455\n",
                        "Coefficient PHIHOX_M_sl1_250m was -0.04126857194753525\n",
                        "Coefficient roughness_30s was -0.0\n",
                        "Coefficient SLGWRB_250m was -0.048912276352112996\n",
                        "Coefficient SLTPPT_M_sl1_250m was 0.4634661148714579\n",
                        "Coefficient terrain_ruggedness_index_30s was -7.29404906078129\n",
                        "Coefficient TEXMHT_M_sl1_250m was 2.2788866910504546\n",
                        "Coefficient wc2.0_bio_30s_01 was -0.0060665072378508385\n",
                        "Coefficient alt_30s was -3.0865771042501655\n",
                        "Coefficient AWCh1_M_sl1_250m was 4.6483241969421\n",
                        "Coefficient BDRICM_M_250m was 1.4994179044019034\n",
                        "Coefficient BDRLOG_M_250m was -0.3267967876895696\n",
                        "The selected variables are: (['agb_observed_baccini_2000_30m', 'CRFVOL_M_sl1_250m', 'HISTPR_250m', 'OCDENS_M_sl1_250m', 'SLTPPT_M_sl1_250m', 'terrain_ruggedness_index_30s', 'TEXMHT_M_sl1_250m', 'alt_30s', 'AWCh1_M_sl1_250m', 'BDRICM_M_250m', 'BDRLOG_M_250m'], [0, 1, 2, 3, 7, 8, 9, 11, 12, 13, 14])\n"
                    ]
                }
            ],
            "source": [
                "selected_coefficient_labels = []\n",
                "selected_coefficient_indices = []\n",
                "for i in range(len(y_train_hat_lasso.coef_)):\n",
                "    print('Coefficient', feature_names[i], 'was', y_train_hat_lasso.coef_[i])\n",
                "    if abs(y_train_hat_lasso.coef_[i]) > 0.1:\n",
                "        selected_coefficient_labels.append(feature_names[i])\n",
                "        selected_coefficient_indices.append(i)\n",
                "\n",
                "print('The selected variables are:', (selected_coefficient_labels, selected_coefficient_indices))"
            ]
        },
        {
            "cell_type": "markdown",
            "metadata": {},
            "source": [
                "# Step 13:\n",
                "\n",
                "Using Statsmodels, run an OLS version on the selected variables.\n",
                "\n",
                "Use print to show the results table.\n",
                "\n",
                "Write a description of any advantages this approach has over vanilla OLS.\n"
            ]
        },
        {
            "cell_type": "code",
            "execution_count": 121,
            "metadata": {},
            "outputs": [
                {
                    "name": "stdout",
                    "output_type": "stream",
                    "text": [
                        "                                 OLS Regression Results                                \n",
                        "=======================================================================================\n",
                        "Dep. Variable:                      y   R-squared (uncentered):                   0.875\n",
                        "Model:                            OLS   Adj. R-squared (uncentered):              0.875\n",
                        "Method:                 Least Squares   F-statistic:                          6.376e+05\n",
                        "Date:                Mon, 11 Dec 2023   Prob (F-statistic):                        0.00\n",
                        "Time:                        04:07:26   Log-Likelihood:                     -5.1483e+06\n",
                        "No. Observations:             1000000   AIC:                                  1.030e+07\n",
                        "Df Residuals:                  999989   BIC:                                  1.030e+07\n",
                        "Df Model:                          11                                                  \n",
                        "Covariance Type:            nonrobust                                                  \n",
                        "==============================================================================\n",
                        "                 coef    std err          t      P>|t|      [0.025      0.975]\n",
                        "------------------------------------------------------------------------------\n",
                        "x1             1.1199      0.023     48.077      0.000       1.074       1.166\n",
                        "x2             3.8115      0.029    132.106      0.000       3.755       3.868\n",
                        "x3             0.1670      0.001    128.731      0.000       0.164       0.170\n",
                        "x4            -7.1012      0.023   -306.458      0.000      -7.147      -7.056\n",
                        "x5             0.3895      0.004     97.441      0.000       0.382       0.397\n",
                        "x6            -7.3750      0.033   -223.212      0.000      -7.440      -7.310\n",
                        "x7             2.2471      0.040     56.313      0.000       2.169       2.325\n",
                        "x8            -3.3331      0.055    -60.698      0.000      -3.441      -3.225\n",
                        "x9             4.6258      0.012    389.185      0.000       4.603       4.649\n",
                        "x10            1.5018      0.014    105.600      0.000       1.474       1.530\n",
                        "x11           -0.3272      0.002   -211.125      0.000      -0.330      -0.324\n",
                        "==============================================================================\n",
                        "Omnibus:                    51127.287   Durbin-Watson:                   0.393\n",
                        "Prob(Omnibus):                  0.000   Jarque-Bera (JB):            66135.428\n",
                        "Skew:                           0.510   Prob(JB):                         0.00\n",
                        "Kurtosis:                       3.739   Cond. No.                     1.87e+03\n",
                        "==============================================================================\n",
                        "\n",
                        "Notes:\n",
                        "[1] R² is computed without centering (uncentered) since the model does not contain a constant.\n",
                        "[2] Standard Errors assume that the covariance matrix of the errors is correctly specified.\n",
                        "[3] The condition number is large, 1.87e+03. This might indicate that there are\n",
                        "strong multicollinearity or other numerical problems.\n"
                    ]
                }
            ],
            "source": [
                "# Step 13 code\n",
                "\n",
                "# Select training data\n",
                "X_train_selected = X_train[:, selected_coefficient_indices]\n",
                "\n",
                "# Fit OLS model\n",
                "model = OLS(y_train, X_train_selected)\n",
                "results = model.fit()\n",
                "\n",
                "# Print summary statistics\n",
                "print(results.summary())"
            ]
        },
        {
            "cell_type": "markdown",
            "metadata": {},
            "source": [
                "## Advantages over vanilla OLS\n",
                "\n",
                "Thanks to the penalization of unimportant variables, lasso regressions are great\n",
                "for variable control. This allows for a stream-lined way to perform variable\n",
                "selection. Relately, the variable selection done through lasso regressions \n",
                "could help solve multicollinearity problems. Lastly, the penalization term \n",
                "helps prevent overfitting by punishing models that are overly complex while \n",
                "vanilla OLS could allow overfitting to go undetected."
            ]
        }
    ],
    "metadata": [
        {
            "kernelspec": {
                "display_name": "Python 3 (ipykernel)",
                "language": "python",
                "name": "python3"
            }
        }
    ],
    "nbformat": 4,
    "nbformat_minor": 4
}
