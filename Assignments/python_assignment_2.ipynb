{
 "cells": [
  {
   "cell_type": "markdown",
   "metadata": {
    "collapsed": false
   },
   "source": [
    "# Python Assignment 2: Python Basics for Big Data\n",
    "\n",
    "For this assignment, enter Python code into code blocks below. I have provided some empty code blocks you can use. Throughout, use comments to explain steps you are doing. No need to go overboard but it is always important in coding to be as descriptive as possible.\n",
    "\n",
    "Most things in this can be solved using methods shown in lecture. However, some cases will require you to search the internet for answers. This is intended because efficiently searching documentation or Stackoverflow is a requirement of modern programing. Also note there will be similar-sounding questions for your practice."
   ]
  },
  {
   "cell_type": "markdown",
   "metadata": {},
   "source": [
    "## Question 1\n",
    "\n",
    "a). **Indentation and Pythonic Code**:\n",
    "   - Create a function named `print_numbers` that prints numbers from 1 to 10, each on a new line. Ensure your code is properly indented and follows Pythonic conventions."
   ]
  },
  {
   "cell_type": "code",
   "execution_count": 4,
   "metadata": {},
   "outputs": [
    {
     "name": "stdout",
     "output_type": "stream",
     "text": [
      "1 \n",
      "\n",
      "2 \n",
      "\n",
      "3 \n",
      "\n",
      "4 \n",
      "\n",
      "5 \n",
      "\n",
      "6 \n",
      "\n",
      "7 \n",
      "\n",
      "8 \n",
      "\n",
      "9 \n",
      "\n",
      "10 \n",
      "\n"
     ]
    }
   ],
   "source": [
    "#1 a) Answer\n",
    "\n",
    "# Define function\n",
    "def print_numbers():\n",
    "    for i in range(1,11):\n",
    "        print(i, '\\n') # Print value and new line\n",
    "\n",
    "# Call function\n",
    "print_numbers()"
   ]
  },
  {
   "cell_type": "markdown",
   "metadata": {},
   "source": [
    "b.) **Rules of Functions and Comments**:\n",
    "   - Define a function named `calculate_area` that takes two arguments `length` and `width`, and returns the area of a rectangle. Include a docstring explaining what the function does. See the lecture notes for an example of a docstring.\n"
   ]
  },
  {
   "cell_type": "code",
   "execution_count": 5,
   "metadata": {},
   "outputs": [
    {
     "name": "stdout",
     "output_type": "stream",
     "text": [
      "The area of the rectangle with length 2 and width 5 = 10\n"
     ]
    },
    {
     "data": {
      "text/plain": [
       "10"
      ]
     },
     "execution_count": 5,
     "metadata": {},
     "output_type": "execute_result"
    }
   ],
   "source": [
    "#1 b) Answer:\n",
    "\n",
    "# Define function\n",
    "def calculate_area(length, width):\n",
    "    # Calculate area\n",
    "    area = length * width\n",
    "    print('The area of the rectangle with length', length, 'and width',\n",
    "          width, '=', area) # docstring\n",
    "    \n",
    "    return area\n",
    "\n",
    "# Call function\n",
    "calculate_area(2,5)\n",
    "    "
   ]
  },
  {
   "cell_type": "markdown",
   "metadata": {},
   "source": [
    "c.) **Basic Data Types**:\n",
    "   - Create a variable `is_active` and set it to `True`. Print the type of `is_active` using the `type()` function.\n"
   ]
  },
  {
   "cell_type": "code",
   "execution_count": 6,
   "metadata": {},
   "outputs": [
    {
     "data": {
      "text/plain": [
       "bool"
      ]
     },
     "execution_count": 6,
     "metadata": {},
     "output_type": "execute_result"
    }
   ],
   "source": [
    "#1 c) Answer:\n",
    "\n",
    "# Initialize boolean\n",
    "is_active = True\n",
    "\n",
    "type(is_active) # Verify that it is type boolean"
   ]
  },
  {
   "cell_type": "markdown",
   "metadata": {},
   "source": [
    "\n",
    "d.) **Working with Lists**:\n",
    "   - Create a list named `fruits` containing some fruit names. Use the `append` method to add 'Mango' to the list and print the updated list."
   ]
  },
  {
   "cell_type": "code",
   "execution_count": 8,
   "metadata": {},
   "outputs": [
    {
     "name": "stdout",
     "output_type": "stream",
     "text": [
      "['apple', 'pear', 'grape', 'mango']\n"
     ]
    }
   ],
   "source": [
    "#1 d) Answer:\n",
    "\n",
    "# Initialize list\n",
    "fruits = ['apple', 'pear', 'grape']\n",
    "\n",
    "# append mango\n",
    "fruits.append('mango')\n",
    "\n",
    "print(fruits) # Verify results"
   ]
  },
  {
   "cell_type": "markdown",
   "metadata": {},
   "source": [
    "## Question 2:\n",
    "a.) **Naming Conventions**:\n",
    "   - Create a variable following the snake_case naming convention to store the number of days in a week."
   ]
  },
  {
   "cell_type": "code",
   "execution_count": 9,
   "metadata": {},
   "outputs": [],
   "source": [
    "#2 a) Answer: \n",
    "\n",
    "# Initialize variable\n",
    "days_of_the_week = ['monday', 'tuesday', 'wednesday', '...', 'sunday']"
   ]
  },
  {
   "cell_type": "markdown",
   "metadata": {},
   "source": [
    "b.) **Control Flows - Conditionals**:\n",
    "   - Write a simple program that checks if a number is positive, negative, or zero using `if`, `elif`, and `else` statements."
   ]
  },
  {
   "cell_type": "code",
   "execution_count": 16,
   "metadata": {},
   "outputs": [
    {
     "name": "stdout",
     "output_type": "stream",
     "text": [
      "The given number -1 is negative\n"
     ]
    }
   ],
   "source": [
    "#2 b) Answer:\n",
    "\n",
    "# Define function\n",
    "def sign_check(number):\n",
    "\n",
    "    if(number > 0): # check if positive\n",
    "        sign = 'positive'\n",
    "    elif(number == 0): # check if 0\n",
    "        sign = 'zero'\n",
    "    else: # Check if negative\n",
    "        sign = 'negative'\n",
    "\n",
    "    print('The given number', number, 'is', sign)\n",
    "\n",
    "sign_check(-1)\n",
    "\n"
   ]
  },
  {
   "cell_type": "markdown",
   "metadata": {},
   "source": [
    "c.) **Control Flows - Loops**:\n",
    "   - Write a `for` loop to calculate the sum of numbers from 1 to 100.\n"
   ]
  },
  {
   "cell_type": "code",
   "execution_count": 17,
   "metadata": {},
   "outputs": [
    {
     "name": "stdout",
     "output_type": "stream",
     "text": [
      "The sum from 1-100 = 5050\n"
     ]
    }
   ],
   "source": [
    "#2 c) Answer:\n",
    "\n",
    "# Define function\n",
    "def sum_100():\n",
    "    total = 0\n",
    "    # Iterate from 1 to 100\n",
    "    for i in range(1,101):\n",
    "        total += i # Summation\n",
    "\n",
    "    print('The sum from 1-100 =', total)\n",
    "\n",
    "# Call function\n",
    "sum_100()"
   ]
  },
  {
   "cell_type": "markdown",
   "metadata": {},
   "source": [
    "\n",
    "d.) **Control Flows - Loop Control Statements**:\n",
    "   - Modify the loop from the previous sub-question to stop the loop if the sum becomes greater than 1000 using a `break` statement.\n"
   ]
  },
  {
   "cell_type": "code",
   "execution_count": 20,
   "metadata": {},
   "outputs": [
    {
     "name": "stdout",
     "output_type": "stream",
     "text": [
      "The resulting sum = 1035\n"
     ]
    }
   ],
   "source": [
    "#2 c) Answer: \n",
    "\n",
    "# Define function\n",
    "def sum_to_1000():\n",
    "    total = 0\n",
    "    # Iterate from 1 to 100\n",
    "    for i in range(1,101):\n",
    "        total += i # Summation\n",
    "        if total > 1000:\n",
    "            break\n",
    "\n",
    "    print('The resulting sum =', total)\n",
    "\n",
    "# Call function\n",
    "sum_to_1000()"
   ]
  },
  {
   "cell_type": "markdown",
   "metadata": {},
   "source": [
    "\n",
    "e.) **Functions - Arguments and Return Values**:\n",
    "   - Create a function named `get_full_name` that takes two arguments `first_name` and `last_name`, and returns the full name."
   ]
  },
  {
   "cell_type": "code",
   "execution_count": 23,
   "metadata": {},
   "outputs": [
    {
     "data": {
      "text/plain": [
       "'Joe Shmoe'"
      ]
     },
     "execution_count": 23,
     "metadata": {},
     "output_type": "execute_result"
    }
   ],
   "source": [
    "#2 e) Answer:\n",
    "\n",
    "# Define function\n",
    "def get_full_name(first_name, last_name):\n",
    "    return first_name + ' ' + last_name\n",
    "get_full_name('Joe', 'Shmoe')"
   ]
  },
  {
   "cell_type": "markdown",
   "metadata": {},
   "source": [
    "## Question 3\n",
    "**Part A:** Write a python function that calculates the sum of all squared \n",
    "numbers from 1 to x. Illustrate that it works for x = 20.\n",
    "\n",
    "HINT, ** is the exponent operator in python.\n",
    "HINT syntax for a python function is:\n",
    "\n",
    "def function_name(variable_name):\n",
    "    outcome = variable_name + 1\n",
    "    return outcome"
   ]
  },
  {
   "cell_type": "code",
   "execution_count": 24,
   "metadata": {},
   "outputs": [
    {
     "data": {
      "text/plain": [
       "2870"
      ]
     },
     "execution_count": 24,
     "metadata": {},
     "output_type": "execute_result"
    }
   ],
   "source": [
    "#3A Answer\n",
    "\n",
    "# Define function\n",
    "def square_calc(x):\n",
    "    total = 0\n",
    "    # Calculate sum of squares up to x\n",
    "    for i in range(1, x + 1):\n",
    "        total += i ** 2\n",
    "    return total\n",
    "\n",
    "# Call function\n",
    "square_calc(20)\n"
   ]
  },
  {
   "cell_type": "markdown",
   "metadata": {},
   "source": [
    "The python library named \"os\" is a built-in library for dealing with any file on your operating system.\n",
    "Often, research tasks involve LOTS of files and you need to iterate over them. To show you know how\n",
    "to do this, use the os.listdir function to answer the following questions. Note that you need to \n",
    "write \"import os\" to import the library into your code before you can use it:\n",
    "\n",
    "**Part B:** Print out a list of all the files your class root directory. I don't care how many are actually there (in case you've added some yourself) but show me how."
   ]
  },
  {
   "cell_type": "code",
   "execution_count": 27,
   "metadata": {},
   "outputs": [
    {
     "data": {
      "text/plain": [
       "['Course Details', 'Data', 'Previous Courses', 'Readings', 'Repos', 'Slides']"
      ]
     },
     "execution_count": 27,
     "metadata": {},
     "output_type": "execute_result"
    }
   ],
   "source": [
    "#3B Answer\n",
    "\n",
    "import os\n",
    "\n",
    "course_directory = r'C:\\Users\\jake1\\OneDrive\\Desktop\\APEC 8222'\n",
    "\n",
    "course_files = os.listdir(course_directory) # list files in class directory\n",
    "\n",
    "course_files"
   ]
  },
  {
   "cell_type": "markdown",
   "metadata": {},
   "source": [
    "**Part C:** Using a FOR loop, iterate over the list from above. Using the function len(), count how many letters there are in the filenames. HINT just like in real life, you may need to google the len() function and see how it work on e.g. strings."
   ]
  },
  {
   "cell_type": "code",
   "execution_count": 29,
   "metadata": {},
   "outputs": [
    {
     "name": "stdout",
     "output_type": "stream",
     "text": [
      "The names of my course root directory files sum to 53 characters!\n"
     ]
    }
   ],
   "source": [
    "#3C Answer\n",
    "\n",
    "char_count = 0\n",
    "\n",
    "# Iterate over files in course directory\n",
    "for file in course_files:\n",
    "    char_count += len(file)\n",
    "\n",
    "print('The names of my course root directory files sum to', char_count, 'characters!')"
   ]
  },
  {
   "cell_type": "markdown",
   "metadata": {},
   "source": [
    "**Part D:** Write a Python program which iterates over the integers from 1 to 50. For multiples of three print \"Fizz\" instead of the number and for the multiples of five print \"Buzz\". For numbers which are multiples of both three and five print \"FizzBuzz\". Hint: look up how to use the modulo operator (which is written as % in python) which would let you test when the remainder of a devision is exactly 0.\n",
    "\n",
    "Side-note, this is a hilariously over-used question that most software engineers get askedon their first interview for a job."
   ]
  },
  {
   "cell_type": "code",
   "execution_count": 35,
   "metadata": {},
   "outputs": [
    {
     "name": "stdout",
     "output_type": "stream",
     "text": [
      "Fizz\n",
      "Buzz\n",
      "Fizz\n",
      "Fizz\n",
      "Buzz\n",
      "Fizz\n",
      "FizzBuzz\n",
      "Fizz\n",
      "Buzz\n",
      "Fizz\n",
      "Fizz\n",
      "Buzz\n",
      "Fizz\n",
      "FizzBuzz\n",
      "Fizz\n",
      "Buzz\n",
      "Fizz\n",
      "Fizz\n",
      "Buzz\n",
      "Fizz\n",
      "FizzBuzz\n",
      "Fizz\n",
      "Buzz\n"
     ]
    }
   ],
   "source": [
    "# 3D Answer\n",
    "\n",
    "# Define function\n",
    "def FizzBuzz():\n",
    "    # Iterate from 1-50\n",
    "    for i in range(1, 51):\n",
    "        if i % 3 == 0 and i % 5 == 0: # Multiples of 3 and 5\n",
    "            print('FizzBuzz')\n",
    "        elif i % 3 == 0: # Multiples of 3\n",
    "            print('Fizz')\n",
    "        elif i % 5 == 0: # Multiples of 5\n",
    "            print('Buzz')\n",
    "\n",
    "# Call function\n",
    "FizzBuzz()\n"
   ]
  }
 ],
 "metadata": {
  "anaconda-cloud": {},
  "kernelspec": {
   "display_name": "Python 3.10.6 ('8222env1')",
   "language": "python",
   "name": "python3"
  },
  "language_info": {
   "codemirror_mode": {
    "name": "ipython",
    "version": 3
   },
   "file_extension": ".py",
   "mimetype": "text/x-python",
   "name": "python",
   "nbconvert_exporter": "python",
   "pygments_lexer": "ipython3",
   "version": "3.10.8 | packaged by conda-forge | (main, Nov 22 2022, 08:16:33) [MSC v.1929 64 bit (AMD64)]"
  },
  "vscode": {
   "interpreter": {
    "hash": "0db313e0ad7b6749a6d098fb61fddaded88cbd823278030b75fa0893942c8f77"
   }
  }
 },
 "nbformat": 4,
 "nbformat_minor": 1
}
